{
  "cells": [
    {
      "cell_type": "markdown",
      "metadata": {
        "id": "view-in-github",
        "colab_type": "text"
      },
      "source": [
        "<a href=\"https://colab.research.google.com/github/fereshtehdehkhoda/Example14-Mean-of-array/blob/main/Mean_of_array.ipynb\" target=\"_parent\"><img src=\"https://colab.research.google.com/assets/colab-badge.svg\" alt=\"Open In Colab\"/></a>"
      ]
    },
    {
      "cell_type": "markdown",
      "id": "aa586bd4-754b-4586-8a95-5dabc0043e43",
      "metadata": {
        "id": "aa586bd4-754b-4586-8a95-5dabc0043e43"
      },
      "source": [
        "# Mean of array"
      ]
    },
    {
      "cell_type": "code",
      "execution_count": null,
      "id": "38ee04cb-9e53-47ae-893b-cc8e6856207b",
      "metadata": {
        "id": "38ee04cb-9e53-47ae-893b-cc8e6856207b"
      },
      "outputs": [],
      "source": [
        "#یک ماتریس با 5 ردیف و 6 ستون بسازید که اعداد بین 1 تا 3 با فاصله یکنواخت از هم به صورت ستونی آن را پر کرده‌اند.\n",
        "#میانگین درایه‌های ستون آخر کدام است؟"
      ]
    },
    {
      "cell_type": "code",
      "execution_count": null,
      "id": "d3c5107f-d2e5-4540-aca3-250593f6ad5e",
      "metadata": {
        "id": "d3c5107f-d2e5-4540-aca3-250593f6ad5e"
      },
      "outputs": [],
      "source": [
        "import numpy as np"
      ]
    },
    {
      "cell_type": "code",
      "execution_count": null,
      "id": "e676f8a6-ec8f-4130-9f0e-a71f5b937221",
      "metadata": {
        "id": "e676f8a6-ec8f-4130-9f0e-a71f5b937221",
        "outputId": "62af20f4-90b1-405d-94fd-b7e114cc3e5c"
      },
      "outputs": [
        {
          "data": {
            "text/plain": [
              "array([1.        , 1.06896552, 1.13793103, 1.20689655, 1.27586207,\n",
              "       1.34482759, 1.4137931 , 1.48275862, 1.55172414, 1.62068966,\n",
              "       1.68965517, 1.75862069, 1.82758621, 1.89655172, 1.96551724,\n",
              "       2.03448276, 2.10344828, 2.17241379, 2.24137931, 2.31034483,\n",
              "       2.37931034, 2.44827586, 2.51724138, 2.5862069 , 2.65517241,\n",
              "       2.72413793, 2.79310345, 2.86206897, 2.93103448, 3.        ])"
            ]
          },
          "execution_count": 31,
          "metadata": {},
          "output_type": "execute_result"
        }
      ],
      "source": [
        "c=np.linspace(1,3,30)\n",
        "c"
      ]
    },
    {
      "cell_type": "code",
      "execution_count": null,
      "id": "b771993d-6381-4719-9d87-cd328065f5eb",
      "metadata": {
        "id": "b771993d-6381-4719-9d87-cd328065f5eb",
        "outputId": "a51cf5dd-d6de-4966-f3a0-ddaac7637600"
      },
      "outputs": [
        {
          "data": {
            "text/plain": [
              "array([[1.        , 1.4137931 , 1.82758621, 2.24137931, 2.65517241],\n",
              "       [1.06896552, 1.48275862, 1.89655172, 2.31034483, 2.72413793],\n",
              "       [1.13793103, 1.55172414, 1.96551724, 2.37931034, 2.79310345],\n",
              "       [1.20689655, 1.62068966, 2.03448276, 2.44827586, 2.86206897],\n",
              "       [1.27586207, 1.68965517, 2.10344828, 2.51724138, 2.93103448],\n",
              "       [1.34482759, 1.75862069, 2.17241379, 2.5862069 , 3.        ]])"
            ]
          },
          "execution_count": 33,
          "metadata": {},
          "output_type": "execute_result"
        }
      ],
      "source": [
        "c_T=c.reshape(5,6).T\n",
        "c_T"
      ]
    },
    {
      "cell_type": "code",
      "execution_count": null,
      "id": "70b19447-1ce6-480e-a070-d81509749a72",
      "metadata": {
        "id": "70b19447-1ce6-480e-a070-d81509749a72",
        "outputId": "69f59e7b-e0b2-4911-e45d-ae63da40e00b"
      },
      "outputs": [
        {
          "data": {
            "text/plain": [
              "array([2.65517241, 2.72413793, 2.79310345, 2.86206897, 2.93103448,\n",
              "       3.        ])"
            ]
          },
          "execution_count": 35,
          "metadata": {},
          "output_type": "execute_result"
        }
      ],
      "source": [
        "last_column=c_T[:,-1]\n",
        "last_column"
      ]
    },
    {
      "cell_type": "code",
      "execution_count": null,
      "id": "e929a1bb-d1f0-4e91-9f91-6e9d9c18de39",
      "metadata": {
        "id": "e929a1bb-d1f0-4e91-9f91-6e9d9c18de39",
        "outputId": "076758c6-08e0-43cd-81dc-634666ee5075"
      },
      "outputs": [
        {
          "data": {
            "text/plain": [
              "2.8275862068965516"
            ]
          },
          "execution_count": 37,
          "metadata": {},
          "output_type": "execute_result"
        }
      ],
      "source": [
        "np.mean(last_column)"
      ]
    }
  ],
  "metadata": {
    "kernelspec": {
      "display_name": "Python 3 (ipykernel)",
      "language": "python",
      "name": "python3"
    },
    "language_info": {
      "codemirror_mode": {
        "name": "ipython",
        "version": 3
      },
      "file_extension": ".py",
      "mimetype": "text/x-python",
      "name": "python",
      "nbconvert_exporter": "python",
      "pygments_lexer": "ipython3",
      "version": "3.12.4"
    },
    "colab": {
      "provenance": [],
      "include_colab_link": true
    }
  },
  "nbformat": 4,
  "nbformat_minor": 5
}